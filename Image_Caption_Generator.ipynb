{
  "nbformat": 4,
  "nbformat_minor": 0,
  "metadata": {
    "colab": {
      "provenance": []
    },
    "kernelspec": {
      "name": "python3",
      "display_name": "Python 3"
    },
    "language_info": {
      "name": "python"
    }
  },
  "cells": [
    {
      "cell_type": "code",
      "execution_count": 1,
      "metadata": {
        "id": "tCTbBlfeJCVZ"
      },
      "outputs": [],
      "source": [
        "import os\n",
        "import pickle\n",
        "import numpy as np\n",
        "from tqdm import tqdm\n",
        "from tensorflow.keras.preprocessing.image import load_img, img_to_array\n",
        "from tensorflow.keras.applications.vgg16 import VGG16, preprocess_input\n",
        "from tensorflow.keras.preprocessing.text import Tokenizer\n",
        "from tensorflow.keras.models import Model\n",
        "from tensorflow.keras.preprocessing.sequence import pad_sequences\n",
        "from tensorflow.keras.layers import Input, Dense, LSTM, Embedding, Dropout, add\n",
        "from tensorflow.keras.utils import to_categorical, plot_model"
      ]
    },
    {
      "cell_type": "code",
      "source": [
        "from google.colab import drive\n",
        "drive.mount('/content/drive')"
      ],
      "metadata": {
        "colab": {
          "base_uri": "https://localhost:8080/"
        },
        "id": "sJQI1kWKLGuZ",
        "outputId": "dde4f6f1-23be-488b-da89-dc91ee7bac14"
      },
      "execution_count": 2,
      "outputs": [
        {
          "output_type": "stream",
          "name": "stdout",
          "text": [
            "Mounted at /content/drive\n"
          ]
        }
      ]
    },
    {
      "cell_type": "code",
      "source": [
        "from google.colab import files\n",
        "uploaded = files.upload()"
      ],
      "metadata": {
        "id": "3ek6Zwh6TYaf"
      },
      "execution_count": null,
      "outputs": []
    },
    {
      "cell_type": "code",
      "source": [
        "model = VGG16()\n",
        "model = Model(inputs=model.inputs, outputs=model.layers[-2].output)"
      ],
      "metadata": {
        "id": "oP0JrIq6LHBw"
      },
      "execution_count": null,
      "outputs": []
    },
    {
      "cell_type": "code",
      "source": [
        "\n",
        "features = {}\n",
        "directory = os.path.join('/content/data', 'Images')\n",
        "\n",
        "for image in tqdm(os.listdir(directory)):\n",
        "    img_path = directory + '/' + image\n",
        "    im = load_img(img_path, target_size=(224, 224))\n",
        "    im = img_to_array(im)\n",
        "    im = im.reshape((1, im.shape[0], im.shape[1], im.shape[2]))\n",
        "    im = preprocess_input(im)\n",
        "    feature = model.predict(im, verbose=0)\n",
        "    im_id = image.split('.')[0]\n",
        "    features[im_id] = feature"
      ],
      "metadata": {
        "id": "cztiEiQTR535"
      },
      "execution_count": null,
      "outputs": []
    },
    {
      "cell_type": "code",
      "source": [
        "pickle.dump(features, open(os.path.join('/content/Data', 'features.pkl'), 'wb'))"
      ],
      "metadata": {
        "id": "S5H3cXirR50z"
      },
      "execution_count": null,
      "outputs": []
    },
    {
      "cell_type": "code",
      "source": [
        "with open(os.path.join('/content/Data', 'features.pkl'), 'rb') as f:\n",
        "    features = pickle.load(f)"
      ],
      "metadata": {
        "id": "un9McEtnR5x7"
      },
      "execution_count": null,
      "outputs": []
    },
    {
      "cell_type": "code",
      "source": [
        "with open(os.path.join('/content/Data/captions.txt'), 'r') as f:\n",
        "    next(f)\n",
        "    captions_doc = f.read()"
      ],
      "metadata": {
        "id": "BpwfWICbR5u8"
      },
      "execution_count": null,
      "outputs": []
    },
    {
      "cell_type": "code",
      "source": [
        "mapping = {}\n",
        "for l in tqdm(captions_doc.split('\\n')):\n",
        "    count = l.split(',')\n",
        "    if len(l) < 2:\n",
        "        continue\n",
        "    im_id, caption = count[0], count[1:]\n",
        "    im_id = im_id.split('.')[0]\n",
        "    caption = \" \".join(caption)\n",
        "    if im_id not in mapping:\n",
        "        mapping[im_id] = []\n",
        "    mapping[im_id].append(caption)"
      ],
      "metadata": {
        "id": "ZKUKeLy-R5cF"
      },
      "execution_count": null,
      "outputs": []
    },
    {
      "cell_type": "code",
      "source": [
        "def clean(mapping):\n",
        "    for key, title in mapping.items():\n",
        "        for i in range(len(title)):\n",
        "            cptn = title[i]\n",
        "            cptn = cptn.lower()\n",
        "            cptn = cptn.replace('[^A-Za-z]', '')\n",
        "            cptn = cptn.replace('\\s+', ' ')\n",
        "            cptn = 'startseq ' + \" \".join([word for word in cptn.split() if len(word)>1]) + ' endseq'\n",
        "            title[i] = cptn"
      ],
      "metadata": {
        "id": "9kMKbLDVV087"
      },
      "execution_count": null,
      "outputs": []
    },
    {
      "cell_type": "code",
      "source": [
        "captions = []\n",
        "for i in mapping:\n",
        "    for cptn in mapping[i]:\n",
        "        captions.append(cptn)"
      ],
      "metadata": {
        "id": "K2G_pnYpV06c"
      },
      "execution_count": null,
      "outputs": []
    },
    {
      "cell_type": "code",
      "source": [
        "tk = Tokenizer()\n",
        "tk.fit_on_texts(captions)\n",
        "vocab_size = len(tk.word_index) + 1"
      ],
      "metadata": {
        "id": "7jSrL1g0V04I"
      },
      "execution_count": null,
      "outputs": []
    },
    {
      "cell_type": "code",
      "source": [
        "max_length = max(len(cptn.split()) for cptn in captions)\n",
        "max_length"
      ],
      "metadata": {
        "id": "ddqJpJH5V01w"
      },
      "execution_count": null,
      "outputs": []
    },
    {
      "cell_type": "code",
      "source": [
        "im_ids = list(mapping.keys())\n",
        "split = int(len(im_ids) * 0.90)\n",
        "test = im_ids[split:]\n",
        "train = im_ids[:split]"
      ],
      "metadata": {
        "id": "LdrXq7kcV0zS"
      },
      "execution_count": null,
      "outputs": []
    },
    {
      "cell_type": "code",
      "source": [
        "\n",
        "def data_generator(dk, mapping, feats, tk, max_length, vocab_size, b_size):\n",
        "    X1, X2, y = list(), list(), list()\n",
        "    n = 0\n",
        "    while 1:\n",
        "        for key in dk:\n",
        "            n += 1\n",
        "            captions = mapping[key]\n",
        "            for cptn in captions:\n",
        "                seq = tk.texts_to_sequences([cptn])[0]\n",
        "                for i in range(1, len(seq)):\n",
        "                    in_seq, out_seq = seq[:i], seq[i]\n",
        "                    in_seq = pad_sequences([in_seq], maxlen=max_length)[0]\n",
        "                    out_seq = to_categorical([out_seq], num_classes=vocab_size)[0]\n",
        "                    X1.append(feats[key][0])\n",
        "                    X2.append(in_seq)\n",
        "                    y.append(out_seq)\n",
        "            if n == b_size:\n",
        "                X1, X2, y = np.array(X1), np.array(X2), np.array(y)\n",
        "                yield {\"image\": X1, \"text\": X2}, y\n",
        "                X1, X2, y = list(), list(), list()\n",
        "                n = 0"
      ],
      "metadata": {
        "id": "y733CvPYV0wx"
      },
      "execution_count": null,
      "outputs": []
    },
    {
      "cell_type": "code",
      "source": [
        "I1 = Input(shape=(4096,), name=\"image\")\n",
        "fv1 = Dropout(0.4)(I1)\n",
        "fv2 = Dense(256, activation='relu')(fv1)\n",
        "\n",
        "I2 = Input(shape=(max_length,), name=\"text\")\n",
        "s1 = Embedding(vocab_size, 256, mask_zero=True)(I2)\n",
        "s2 = Dropout(0.4)(s1)\n",
        "s3 = LSTM(256)(s2)\n",
        "\n",
        "decodera = add([fv2, s3])\n",
        "decoderb = Dense(256, activation='relu')(decodera)\n",
        "outputs = Dense(vocab_size, activation='softmax')(decoderb)\n",
        "\n",
        "model = Model(inputs=[I1, I2], outputs=outputs)\n",
        "model.compile(loss='categorical_crossentropy', optimizer='adam')\n",
        "\n",
        "plot_model(model, show_shapes=True)"
      ],
      "metadata": {
        "id": "RZ00CHUHV0uY"
      },
      "execution_count": null,
      "outputs": []
    },
    {
      "cell_type": "code",
      "source": [
        "epochs = 20\n",
        "b_size = 32\n",
        "steps = len(train) // b_size\n",
        "\n",
        "for i in range(epochs):\n",
        "    generator = data_generator(train, mapping, features, tokenizer, max_length, vocab_size, b_size)\n",
        "    model.fit(generator, epochs=1, steps_per_epoch=steps, verbose=1)"
      ],
      "metadata": {
        "id": "GyVbAKX_V0r_"
      },
      "execution_count": null,
      "outputs": []
    },
    {
      "cell_type": "code",
      "source": [
        "model.save(WORKING_DIR+'/best_model.h5')"
      ],
      "metadata": {
        "id": "EpjkkWGfV0lX"
      },
      "execution_count": null,
      "outputs": []
    },
    {
      "cell_type": "code",
      "source": [
        "def idx_to_word(i, tk):\n",
        "    for word, c in tk.word_index.items():\n",
        "        if c == i:\n",
        "            return word\n",
        "    return None"
      ],
      "metadata": {
        "id": "f0tktGs5pt47"
      },
      "execution_count": null,
      "outputs": []
    },
    {
      "cell_type": "code",
      "source": [
        "def predict_caption(model, im, tk, max_length):\n",
        "    t = 'startseq'\n",
        "    for i in range(max_length):\n",
        "        sequence = tk.texts_to_sequences([t])[0]\n",
        "        sequence = pad_sequences([sequence], max_length)\n",
        "        x = model.predict([im, sequence], verbose=0)\n",
        "        x = np.argmax(x)\n",
        "        word = idx_to_word(x, tk)\n",
        "        if word is None:\n",
        "            break\n",
        "        t += \" \" + word\n",
        "        if word == 'endseq':\n",
        "            break\n",
        "    return t"
      ],
      "metadata": {
        "id": "UcNO9WUFpt10"
      },
      "execution_count": null,
      "outputs": []
    },
    {
      "cell_type": "code",
      "source": [
        "from nltk.translate.bleu_score import corpus_bleu\n",
        "actual, predicted = list(), list()\n",
        "\n",
        "for t in tqdm(test):\n",
        "    lst = mapping[t]\n",
        "    y_pred = predict_caption(model, features[t], tokenizer, max_length)\n",
        "    actual_captions = [caption.split() for cptn in lst]\n",
        "    y_pred = y_pred.split()\n",
        "    actual.append(actual_captions)\n",
        "    predicted.append(y_pred)\n",
        "\n",
        "print(\"BLEU-1: %f\" % corpus_bleu(actual, predicted, weights=(1.0, 0, 0, 0)))\n",
        "print(\"BLEU-2: %f\" % corpus_bleu(actual, predicted, weights=(0.5, 0.5, 0, 0)))"
      ],
      "metadata": {
        "id": "UIM0nu06pty9"
      },
      "execution_count": null,
      "outputs": []
    },
    {
      "cell_type": "code",
      "source": [
        "from PIL import Image\n",
        "import matplotlib.pyplot as plt\n",
        "def generate_caption(image_name):\n",
        "    # load the image\n",
        "    # image_name = \"1001773457_577c3a7d70.jpg\"\n",
        "    image_id = image_name.split('.')[0]\n",
        "    img_path = os.path.join(BASE_DIR, \"Images\", image_name)\n",
        "    image = Image.open(img_path)\n",
        "    captions = mapping[image_id]\n",
        "    print('---------------------Actual---------------------')\n",
        "    for caption in captions:\n",
        "        print(caption)\n",
        "    # predict the caption\n",
        "    y_pred = predict_caption(model, features[image_id], tokenizer, max_length)\n",
        "    print('--------------------Predicted--------------------')\n",
        "    print(y_pred)\n",
        "    plt.imshow(image)"
      ],
      "metadata": {
        "id": "FknXxm8AptvZ"
      },
      "execution_count": null,
      "outputs": []
    }
  ]
}